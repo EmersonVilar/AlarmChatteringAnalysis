{
 "cells": [
  {
   "cell_type": "code",
   "execution_count": 1,
   "metadata": {},
   "outputs": [],
   "source": [
    "import numpy as np\n",
    "import matplotlib.pyplot as plt"
   ]
  },
  {
   "cell_type": "code",
   "execution_count": 2,
   "metadata": {},
   "outputs": [],
   "source": [
    "def alarm_generate(x, var_list):\n",
    "    '''alarm_generate is a function when return a vector '''\n",
    "    t_delay = 0\n",
    "    t_dead = 0\n",
    "    log_alarm = np.arange(len(x))\n",
    "  \n",
    "    if var_list[\"type_var\"] == 'high':\n",
    "        for i in np.arange(len(x)):\n",
    "            if x[i] > var_list[\"limit\"]:\n",
    "                t_dead = 0\n",
    "                t_delay = t_delay + 3/len(x)\n",
    "                if t_delay >= var_list[\"delay_time\"]:\n",
    "                    log_alarm[i] = 1\n",
    "                else:\n",
    "                    log_alarm[i] = 0\n",
    "            else:\n",
    "                if log_alarm[i-1] == 1:\n",
    "                    t_dead = t_dead + 3/len(x)\n",
    "                    if t_dead >= var_list[\"dead_band_delay\"]:\n",
    "                        log_alarm[i] = 0\n",
    "                        t_delay = 0\n",
    "                        t_dead = 0\n",
    "                    else:\n",
    "                        log_alarm[i] = 1\n",
    "                else:\n",
    "                    t_delay = 0\n",
    "                    t_dead = 0\n",
    "                    log_alarm[i] = 0\n",
    "    else:\n",
    "        for i in np.arange(len(x)):\n",
    "            if x[i] < limit:\n",
    "                t_dead = 0\n",
    "                t_delay = t_delay + 3/len(x)\n",
    "                if t_delay >= var_list[\"delay_time\"]:\n",
    "                    log_alarm[i] = 1\n",
    "                else:\n",
    "                    log_alarm[i] = 0\n",
    "            else:\n",
    "                if log_alarm[i-1] == 1:\n",
    "                    t_dead = t_dead + 3/len(x)\n",
    "                    if t_dead >= var_list[\"dead_band_delay\"]:\n",
    "                        log_alarm[i] = 0\n",
    "                        t_delay = 0\n",
    "                        t_dead = 0\n",
    "                    else:\n",
    "                        log_alarm[i] = 1\n",
    "                else:\n",
    "                    t_delay = 0\n",
    "                    t_dead = 0\n",
    "                    log_alarm[i] = 0\n",
    "\n",
    "    return log_alarm"
   ]
  },
  {
   "cell_type": "code",
   "execution_count": 107,
   "metadata": {},
   "outputs": [
    {
     "data": {
      "text/plain": [
       "[<matplotlib.lines.Line2D at 0x7fcc28d92e10>]"
      ]
     },
     "execution_count": 107,
     "metadata": {},
     "output_type": "execute_result"
    },
    {
     "data": {
      "image/png": "[encoded data removed]",
      "text/plain": [
       "<matplotlib.figure.Figure at 0x7fcc28e4da58>"
      ]
     },
     "metadata": {},
     "output_type": "display_data"
    }
   ],
   "source": [
    "var_list = {\n",
    "    \"limit\": 1,\n",
    "    \"type_var\":'high', \n",
    "    \"delay_time\" : 10*3/10000, \n",
    "    \"dead_band_delay\" : 10*3/10000\n",
    "}\n",
    "\n",
    "t = np.linspace(0, 50, 5000)\n",
    "ruido = np.random.uniform(-1,1,5000)\n",
    "x = np.sin((t)*.5)+1+ruido \n",
    "\n",
    "log = alarm_generate(x,var_list)\n",
    "plt.figure(figsize=(16,4))\n",
    "plt.plot(log)\n",
    "#plt.plot(x)"
   ]
  },
  {
   "cell_type": "code",
   "execution_count": 108,
   "metadata": {},
   "outputs": [],
   "source": [
    "T1 = []\n",
    "T0 = []\n",
    "count_t1 = 0\n",
    "count_t0 = 0\n",
    "for i in log:\n",
    "    if i == 1:\n",
    "        count_t1+=1\n",
    "        if count_t0 != 0:\n",
    "            T0.append(count_t0)\n",
    "            count_t0 = 0\n",
    "    else:\n",
    "        count_t0+=1\n",
    "        if count_t1 != 0:\n",
    "            T1.append(count_t1)\n",
    "            count_t1 = 0\n",
    "\n",
    "if count_t0 != 0:\n",
    "    T0.append(count_t0)\n",
    "if count_t1 != 0:\n",
    "    T1.append(count_t1)"
   ]
  },
  {
   "cell_type": "code",
   "execution_count": 109,
   "metadata": {},
   "outputs": [
    {
     "name": "stdout",
     "output_type": "stream",
     "text": [
      "[561, 35, 681, 572, 123, 37, 666]\n",
      "[48, 22, 561, 591, 35, 519, 36, 513]\n"
     ]
    }
   ],
   "source": [
    "print(T1)\n",
    "print(T0)"
   ]
  },
  {
   "cell_type": "code",
   "execution_count": 110,
   "metadata": {},
   "outputs": [
    {
     "name": "stdout",
     "output_type": "stream",
     "text": [
      "382.14285714285717 290.625\n"
     ]
    }
   ],
   "source": [
    "Med_T1 = sum(T1)/len(T1)\n",
    "Med_T0 = sum(T0)/len(T0)\n",
    "\n",
    "print(Med_T1, Med_T0)"
   ]
  },
  {
   "cell_type": "code",
   "execution_count": null,
   "metadata": {},
   "outputs": [],
   "source": []
  },
  {
   "cell_type": "code",
   "execution_count": null,
   "metadata": {},
   "outputs": [],
   "source": []
  }
 ],
 "metadata": {
  "kernelspec": {
   "display_name": "Python 3",
   "language": "python",
   "name": "python3"
  },
  "language_info": {
   "codemirror_mode": {
    "name": "ipython",
    "version": 3
   },
   "file_extension": ".py",
   "mimetype": "text/x-python",
   "name": "python",
   "nbconvert_exporter": "python",
   "pygments_lexer": "ipython3",
   "version": "3.6.4"
  }
 },
 "nbformat": 4,
 "nbformat_minor": 2
}

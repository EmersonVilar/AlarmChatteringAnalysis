{
 "cells": [
  {
   "cell_type": "code",
   "execution_count": 5,
   "metadata": {},
   "outputs": [],
   "source": [
    "import numpy as np\n",
    "import pandas as pd\n",
    "import matplotlib.pyplot as plt"
   ]
  },
  {
   "cell_type": "code",
   "execution_count": 50,
   "metadata": {},
   "outputs": [],
   "source": [
    "def threshold(var, thres):\n",
    "    log = [ 1 if valor >= thres else 0 for valor in var]\n",
    "    return log\n",
    "    "
   ]
  },
  {
   "cell_type": "code",
   "execution_count": 52,
   "metadata": {},
   "outputs": [],
   "source": [
    "def chat_ind(log_alarm2):\n",
    "    leng = np.diff(log_alarm2)\n",
    "\n",
    "    run_act = np.clip(leng,0,1)\n",
    "\n",
    "    run_lengths = []\n",
    "    count = 0\n",
    "    flag = 0\n",
    "    for i in np.arange(len(run_act)):\n",
    "        if run_act[i] == 0:\n",
    "            if flag != 0:\n",
    "                count+=1\n",
    "        else:\n",
    "            flag = 1\n",
    "            if count != 0:\n",
    "                run_lengths.append(count)\n",
    "                count = 0\n",
    "            else:\n",
    "                pass\n",
    "            \n",
    "\n",
    "    a = run_lengths\n",
    "    unique_elements, counts_elements = np.unique(a, return_counts=True)\n",
    "\n",
    "    Pr = counts_elements/sum(counts_elements)\n",
    "\n",
    "    chat_Index = sum(Pr/unique_elements)\n",
    "                     \n",
    "    chat_IndexN = 2*(sum(counts_elements/unique_elements)/len(log_alarm2))\n",
    "                     \n",
    "    return chat_Index, chat_IndexN"
   ]
  },
  {
   "cell_type": "code",
   "execution_count": 59,
   "metadata": {},
   "outputs": [
    {
     "name": "stdout",
     "output_type": "stream",
     "text": [
      "(0.2679677948859309, 0.021442718089168103)\n"
     ]
    }
   ],
   "source": [
    "data = pd.read_csv('var_proc.csv')\n",
    "variavel = data['xmeas02']\n",
    "log = threshold(variavel, 3700)\n",
    "results = chat_ind(log)\n",
    "\n",
    "print(results)"
   ]
  },
  {
   "cell_type": "code",
   "execution_count": null,
   "metadata": {},
   "outputs": [],
   "source": []
  }
 ],
 "metadata": {
  "kernelspec": {
   "display_name": "Python 3",
   "language": "python",
   "name": "python3"
  },
  "language_info": {
   "codemirror_mode": {
    "name": "ipython",
    "version": 3
   },
   "file_extension": ".py",
   "mimetype": "text/x-python",
   "name": "python",
   "nbconvert_exporter": "python",
   "pygments_lexer": "ipython3",
   "version": "3.6.4"
  }
 },
 "nbformat": 4,
 "nbformat_minor": 2
}
